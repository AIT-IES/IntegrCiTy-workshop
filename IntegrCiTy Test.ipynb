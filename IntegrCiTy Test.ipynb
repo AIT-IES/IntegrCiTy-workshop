{
 "cells": [
  {
   "cell_type": "markdown",
   "metadata": {},
   "source": [
    "# Part 1: Connectiong to the database\n",
    "\n",
    "Import [Postgres.py](https://postgres-py.readthedocs.io/en/latest/#), a high level PostgreSQL client library, which is used for most interactions with the database in this tutorial (except in Example 2d)."
   ]
  },
  {
   "cell_type": "code",
   "execution_count": null,
   "metadata": {
    "collapsed": false
   },
   "outputs": [],
   "source": [
    "import postgres"
   ]
  },
  {
   "cell_type": "markdown",
   "metadata": {},
   "source": [
    "Connect to PostgreSGL database."
   ]
  },
  {
   "cell_type": "code",
   "execution_count": null,
   "metadata": {
    "collapsed": false
   },
   "outputs": [],
   "source": [
    "# Connection parameters.\n",
    "pg_user = 'postgres'\n",
    "pg_password = 'postgres'\n",
    "pg_host = 'localhost'\n",
    "pg_port = '5432'\n",
    "db_name = 'integrcity_workshop'\n",
    "\n",
    "# Construct connection string.\n",
    "db_connection_string = 'postgres://{0}:{1}@{2}:{3}/{4}'.format( pg_user, pg_password, pg_host, pg_port, db_name )\n",
    "\n",
    "# Make connection\n",
    "db = postgres.Postgres( db_connection_string )"
   ]
  },
  {
   "cell_type": "markdown",
   "metadata": {},
   "source": [
    "# Part 2: Retrieving data from the database\n",
    "\n",
    "#### Example 2a: Retrieve IDs of city object groups\n",
    "\n",
    "A simple query: Retrieve IDs of heating supply areas."
   ]
  },
  {
   "cell_type": "code",
   "execution_count": null,
   "metadata": {
    "collapsed": false
   },
   "outputs": [],
   "source": [
    "sql_command = open( 'sql/retrieve_heating_supply_areas.sql' ).read()\n",
    "\n",
    "id_space_heating_supply_area1 = db.one( sql_command, { 'func' : 'space_heating_supply_area_1' } )\n",
    "id_space_heating_supply_area2 = db.one( sql_command, { 'func' : 'space_heating_supply_area_2' } )\n",
    "\n",
    "\n",
    "print 'space heating supply areas:'\n",
    "print '\\t area 1: id =', id_space_heating_supply_area1\n",
    "print '\\t area 2: id =', id_space_heating_supply_area2"
   ]
  },
  {
   "cell_type": "markdown",
   "metadata": {},
   "source": [
    "#### Example 2b: Retrieve IDs of buildings\n",
    "\n",
    "A query using the **INNER JOIN** statement: Retrieve IDs of buildings (object class ID = 26) that are associated with the heating supply areas."
   ]
  },
  {
   "cell_type": "code",
   "execution_count": null,
   "metadata": {
    "collapsed": false
   },
   "outputs": [],
   "source": [
    "sql_command = open( 'sql/retrieve_building_ids.sql' ).read()\n",
    "\n",
    "building_ids_supply_area1 = db.all( sql_command, { 'ogid' : id_space_heating_supply_area1 } )\n",
    "building_ids_supply_area2 = db.all( sql_command, { 'ogid' : id_space_heating_supply_area2 } )\n",
    "\n",
    "print 'buildings in supply areas:'\n",
    "print '\\t area 1: ids =', building_ids_supply_area1\n",
    "print '\\t area 2: ids =', building_ids_supply_area2"
   ]
  },
  {
   "cell_type": "markdown",
   "metadata": {},
   "source": [
    "#### Example 2c: Retrieve data for buildings\n",
    "\n",
    "A query using multiple **INNER JOIN** statements: Retrieve time series info (type 'RegularTimeSeries', object class ID = 202) for energy demand (object class ID = 232) for space heating (end_use = SpaceHeating) associated with these buildings."
   ]
  },
  {
   "cell_type": "code",
   "execution_count": null,
   "metadata": {
    "collapsed": false
   },
   "outputs": [],
   "source": [
    "sql_command = open( 'sql/retrieve_building_data.sql' ).read()\n",
    "\n",
    "building_data_supply_area1 = []\n",
    "for bid in building_ids_supply_area1:\n",
    "    data = db.one( sql_command, { 'coid' : bid } )\n",
    "    building_data_supply_area1.append( data )\n",
    "\n",
    "building_data_supply_area2 = []\n",
    "for bid in building_ids_supply_area2:\n",
    "    data = db.one( sql_command, { 'coid' : bid } )\n",
    "    building_data_supply_area2.append( data )\n",
    "\n",
    "print 'builing data for supply area 1:'\n",
    "for data in building_data_supply_area1: print '\\t building id', data.id, ':', data.type, 'from %i' % data.year_of_construction\n",
    "print 'builing data for supply area 2:'\n",
    "for data in building_data_supply_area2: print '\\t building id', data.id, ':', data.type, 'from %i' % data.year_of_construction"
   ]
  },
  {
   "cell_type": "markdown",
   "metadata": {},
   "source": [
    "#### Example 2d: Retrieve IDs of buildings using SQLAlchemy\n",
    "\n",
    "[SQLAlchemy](http://www.sqlalchemy.org/) is designed for efficient and high-performing database access, adapted into a simple domain language. Among other things, it provides a system of constructing and representing SQL commands using Python constructs.\n",
    "\n",
    "First, connect to the database and retrieve handles to tables."
   ]
  },
  {
   "cell_type": "code",
   "execution_count": null,
   "metadata": {
    "collapsed": false
   },
   "outputs": [],
   "source": [
    "import sqlalchemy\n",
    "import warnings\n",
    "\n",
    "# Connect to the database\n",
    "engine = sqlalchemy.create_engine( db_connection_string )\n",
    "\n",
    "# Retrieve meta data (including information about existing tables).\n",
    "meta = sqlalchemy.MetaData()\n",
    "with warnings.catch_warnings():\n",
    "    warnings.simplefilter( 'ignore', category = sqlalchemy.exc.SAWarning )\n",
    "    meta.reflect( bind = engine )\n",
    "\n",
    "# Retrieve handles to tables.\n",
    "cityobject = meta.tables[ 'cityobject' ]\n",
    "group_to_cityobject = meta.tables[ 'group_to_cityobject' ]"
   ]
  },
  {
   "cell_type": "markdown",
   "metadata": {},
   "source": [
    "Construct an SQL command directly in Python for retrieving the IDs of buildings (compare Example 2b). This ensures that the command is syntactically correct and corresponds to the data available in the database."
   ]
  },
  {
   "cell_type": "code",
   "execution_count": null,
   "metadata": {
    "collapsed": false
   },
   "outputs": [],
   "source": [
    "# Set aliases (just for convenience).\n",
    "co = cityobject.alias()\n",
    "gm = group_to_cityobject.alias()\n",
    "\n",
    "# Construct SQL command using SQLAlchemy.\n",
    "sql_command = \\\n",
    "    sqlalchemy.sql.select( \n",
    "        [ gm.c.cityobject_id.label( 'id' ) ]\n",
    "    ).select_from(\n",
    "        gm.join( co, gm.c.cityobject_id == co.c.id )\n",
    "    ).where(\n",
    "        sqlalchemy.sql.and_(\n",
    "            gm.c.cityobjectgroup_id == sqlalchemy.sql.bindparam( 'cog' ),\n",
    "            co.c.objectclass_id == 26,\n",
    "        )\n",
    "    ).order_by( 'id' )\n",
    "\n",
    "print sql_command"
   ]
  },
  {
   "cell_type": "markdown",
   "metadata": {},
   "source": [
    "Retrieve the information from the database."
   ]
  },
  {
   "cell_type": "code",
   "execution_count": null,
   "metadata": {
    "collapsed": false
   },
   "outputs": [],
   "source": [
    "# Execute query.\n",
    "connection = engine.connect()\n",
    "building_ids_supply_area1_sqlalchemy = connection.execute( sql_command, cog = id_space_heating_supply_area1 )\n",
    "\n",
    "print 'buildings in supply area 1:'\n",
    "print [ r for r in building_ids_supply_area1_sqlalchemy ]\n",
    "\n",
    "# Result should be explicitly closed before discarding.\n",
    "building_ids_supply_area1_sqlalchemy.close()"
   ]
  },
  {
   "cell_type": "markdown",
   "metadata": {},
   "source": [
    "# Part 3: Working with data\n",
    "\n",
    "#### Example 3a: Plotting time series for different types of buildings\n",
    "\n",
    "Define a figure for plotting the time series."
   ]
  },
  {
   "cell_type": "code",
   "execution_count": null,
   "metadata": {
    "collapsed": false
   },
   "outputs": [],
   "source": [
    "import matplotlib.pyplot as plotter\n",
    "\n",
    "hours_per_day = 24\n",
    "hours_of_day = range( 1, hours_per_day + 1 )\n",
    "\n",
    "# Define new figure.\n",
    "figure, axes = plotter.subplots( nrows=2, ncols=3 )\n",
    "\n",
    "# Subplot: apartment blocks in supply area 1\n",
    "axes[0,0].set_title( 'area 1:\\napartment blocks', fontsize=9 )\n",
    "axes[0,0].set_xlabel( 'time in h', fontsize=8 )\n",
    "axes[0,0].set_ylabel( 'demand in kWh', fontsize=8 )\n",
    "axes[0,0].set_xlim( [ 0.5 ,24.5 ] )\n",
    "\n",
    "# Subplot: multi-family houses in supply area 1\n",
    "axes[0,1].set_title( 'area 1:\\nmulti-family homes', fontsize=9 )\n",
    "axes[0,1].set_xlabel( 'time in h', fontsize=8 )\n",
    "axes[0,1].set_ylabel( 'demand in kWh', fontsize=8 )\n",
    "axes[0,1].set_xlim( [ 0.5 ,24.5 ] )\n",
    "\n",
    "# Subplot: single-family houses in supply area 1\n",
    "axes[0,2].set_title( 'area 1:\\nsingle-family homes', fontsize=9 )\n",
    "axes[0,2].set_xlabel( 'time in h', fontsize=8 )\n",
    "axes[0,2].set_ylabel( 'demand in kWh', fontsize=8 )\n",
    "axes[0,2].set_xlim( [ 0.5 ,24.5 ] )\n",
    "\n",
    "# Subplot: apartment blocks in supply area 2\n",
    "axes[1,0].set_title( 'area 2:\\napartment blocks', fontsize=9 )\n",
    "axes[1,0].set_xlabel( 'time in h', fontsize=8 )\n",
    "axes[1,0].set_ylabel( 'demand in kWh', fontsize=8 )\n",
    "axes[1,0].set_xlim( [ 0.5 ,24.5 ] )\n",
    "\n",
    "# Subplot: multi-family houses in supply area 2\n",
    "axes[1,1].set_title( 'area 2:\\nmulti-family house', fontsize=9 )\n",
    "axes[1,1].set_xlabel( 'time in h', fontsize=8 )\n",
    "axes[1,1].set_ylabel( 'demand in kWh', fontsize=8 )\n",
    "axes[1,1].set_xlim( [ 0.5 ,24.5 ] )\n",
    "\n",
    "# Subplot: single-family houses in supply area 2\n",
    "axes[1,2].set_title( 'area 2:\\nsingle-family house', fontsize=9 )\n",
    "axes[1,2].set_xlabel( 'time in h', fontsize=8 )\n",
    "axes[1,2].set_ylabel( 'demand in kWh', fontsize=8 )\n",
    "axes[1,2].set_xlim( [ 0.5 ,24.5 ] )\n",
    "\n",
    "# Define size of figure.\n",
    "figure.set_size_inches( 10, 4 )"
   ]
  },
  {
   "cell_type": "markdown",
   "metadata": {},
   "source": [
    "Plot the time series."
   ]
  },
  {
   "cell_type": "code",
   "execution_count": null,
   "metadata": {
    "collapsed": false,
    "scrolled": true
   },
   "outputs": [],
   "source": [
    "# Fill building data from supply area 1.\n",
    "for data in building_data_supply_area1:\n",
    "    if data.type == 'Apartment Block':\n",
    "        axes[0,0].plot( hours_of_day, data.values_array, 'ro-' )\n",
    "    elif data.type == 'Multi-Family House':\n",
    "        axes[0,1].plot( hours_of_day, data.values_array, 'rv-' )\n",
    "    elif data.type == 'Single-Family House':\n",
    "        axes[0,2].plot( hours_of_day, data.values_array, 'r^-' )\n",
    "\n",
    "# Fill building data from supply area 2.\n",
    "for data in building_data_supply_area2:\n",
    "    if data.type == 'Apartment Block':\n",
    "        axes[1,0].plot( hours_of_day, data.values_array, 'bo-' )\n",
    "    elif data.type == 'Multi-Family House':\n",
    "        axes[1,1].plot( hours_of_day, data.values_array, 'bv-' )\n",
    "    elif data.type == 'Single-Family House':\n",
    "        axes[1,2].plot( hours_of_day, data.values_array, 'b^-' )\n",
    "\n",
    "# Plot the figure.\n",
    "figure.tight_layout()\n",
    "plotter.show()"
   ]
  },
  {
   "cell_type": "markdown",
   "metadata": {},
   "source": [
    "#### Example 3b: Aggregating time series for supply areas\n",
    "\n",
    "Compute an aggregated demand profile for each supply area."
   ]
  },
  {
   "cell_type": "code",
   "execution_count": null,
   "metadata": {
    "collapsed": false
   },
   "outputs": [],
   "source": [
    "from decimal import *\n",
    "\n",
    "def aggregate_demand_profiles( data, size ):\n",
    "    result = []\n",
    "    for i in range( 0, size ):\n",
    "        result.append( 0 )\n",
    "        for d in data: result[i] += d.values_array[i]\n",
    "    return result\n",
    "\n",
    "aggregated_profiles_area1 = aggregate_demand_profiles( building_data_supply_area1, hours_per_day )\n",
    "aggregated_profiles_area2 = aggregate_demand_profiles( building_data_supply_area2, hours_per_day )"
   ]
  },
  {
   "cell_type": "markdown",
   "metadata": {},
   "source": [
    "#### Example 3c: Aggregate time series weighted by year of construction\n",
    "\n",
    "Assume a scenario where space heating demand is reduced by 50% for buildings built in 1985 or before due to refurbishment. For this case, weights for the demand profiles based on the building's year of contruction can be used."
   ]
  },
  {
   "cell_type": "code",
   "execution_count": null,
   "metadata": {
    "collapsed": false
   },
   "outputs": [],
   "source": [
    "def weighted_aggregate_demand_profiles( data, size ):\n",
    "    result = []\n",
    "    for i in range( 0, size ):\n",
    "        result.append( 0 )\n",
    "        for d in data:\n",
    "            weight = Decimal(1.0) if ( d.year_of_construction > 1985 ) else Decimal(0.5)\n",
    "            result[i] += d.values_array[i] * weight\n",
    "    return result\n",
    "\n",
    "weighted_aggregated_profiles_area1 = weighted_aggregate_demand_profiles( building_data_supply_area1, hours_per_day )\n",
    "weighted_aggregated_profiles_area2 = weighted_aggregate_demand_profiles( building_data_supply_area2, hours_per_day )"
   ]
  },
  {
   "cell_type": "markdown",
   "metadata": {},
   "source": [
    "#### Example 3d: Plot the aggregared demand profiles for comparision\n",
    "\n",
    "Create a new figure and plot the time series."
   ]
  },
  {
   "cell_type": "code",
   "execution_count": null,
   "metadata": {
    "collapsed": false
   },
   "outputs": [],
   "source": [
    "# Define new figure.\n",
    "figure, axes = plotter.subplots( nrows=1, ncols=2, sharey=True )\n",
    "\n",
    "axes[0].set_title( 'energy demand: status quo', fontsize=10 )\n",
    "axes[1].set_title( 'energy demand: refurbished', fontsize=10 )\n",
    "\n",
    "axes[0].set_xlabel( 'time in h', fontsize=9 )\n",
    "axes[1].set_xlabel( 'time in h', fontsize=9 )\n",
    "\n",
    "axes[0].set_ylabel( 'thermal demand in kWh', fontsize=9 )\n",
    "\n",
    "# Plot time series\n",
    "axes[0].plot( hours_of_day, aggregated_profiles_area1, 'ro-' )\n",
    "axes[0].plot( hours_of_day, aggregated_profiles_area2, 'bd-' )\n",
    "\n",
    "axes[1].plot( hours_of_day, weighted_aggregated_profiles_area1, 'ro-' )\n",
    "axes[1].plot( hours_of_day, weighted_aggregated_profiles_area2, 'bd-' )\n",
    "\n",
    "# Plot the figure.\n",
    "figure.tight_layout()\n",
    "plotter.show()"
   ]
  },
  {
   "cell_type": "markdown",
   "metadata": {
    "collapsed": true
   },
   "source": [
    "# Part 4: Updating the database\n",
    "\n",
    "Define colors (RGB scheme) for visualizing results."
   ]
  },
  {
   "cell_type": "code",
   "execution_count": null,
   "metadata": {
    "collapsed": false
   },
   "outputs": [],
   "source": [
    "def get_rgb_color_string( val, cmap_name = 'coolwarm' ):\n",
    "    color = plotter.get_cmap( cmap_name )( float( val ) )\n",
    "    return '{:4.3f} {:4.3f} {:4.3f}'.format( color[0], color[1], color[2] )\n",
    "\n",
    "## Define color of buildings in each supply area according to aggregated peak demand.\n",
    "#rgb_color_area1 = get_rgb_color_string( max(aggregated_profiles_area1) / 500 )\n",
    "#rgb_color_area2 = get_rgb_color_string( max(aggregated_profiles_area2) / 500 )\n",
    "\n",
    "## Define color of buildings in each supply area according to (weighted) aggregated peak demand.\n",
    "#rgb_color_area1 = get_rgb_color_string( max(weighted_aggregated_profiles_area1) / 500 )\n",
    "#rgb_color_area2 = get_rgb_color_string( max(weighted_aggregated_profiles_area2) / 500 )\n",
    "\n",
    "## Use yellow for buildings in supply area 1 and cyan for buildings in supply area 2.\n",
    "rgb_color_area1 = '1.0 1.0 0.0'\n",
    "rgb_color_area2 = '0.0 1.0 1.0'"
   ]
  },
  {
   "cell_type": "markdown",
   "metadata": {},
   "source": [
    "Update the database for visualization. More specifically, change the color of the sufaces called *displayResultsAttributes* associated with the appearance/theme titled *displayResults*.\n",
    "\n",
    "This information may then be exported as KML/COLLADA/glTF model using the [3DCityDB Importer/Exporter](http://www.3dcitydb.org/3dcitydb/3dimpexp/) and viewed in [Google Earth Pro](https://www.google.de/earth/download/gep/agree.html)."
   ]
  },
  {
   "cell_type": "code",
   "execution_count": null,
   "metadata": {
    "collapsed": true
   },
   "outputs": [],
   "source": [
    "sql_command = open( 'sql/update_appearance_supply_area.sql' ).read()\n",
    "\n",
    "db.run( sql_command, { 'cog' : 'space_heating_supply_area_1', 'rgb' : rgb_color_area1 } )\n",
    "db.run( sql_command, { 'cog' : 'space_heating_supply_area_2', 'rgb' : rgb_color_area2 } )"
   ]
  },
  {
   "cell_type": "code",
   "execution_count": null,
   "metadata": {
    "collapsed": true
   },
   "outputs": [],
   "source": []
  }
 ],
 "metadata": {
  "kernelspec": {
   "display_name": "Python 2",
   "language": "python",
   "name": "python2"
  },
  "language_info": {
   "codemirror_mode": {
    "name": "ipython",
    "version": 2
   },
   "file_extension": ".py",
   "mimetype": "text/x-python",
   "name": "python",
   "nbconvert_exporter": "python",
   "pygments_lexer": "ipython2",
   "version": "2.7.12"
  }
 },
 "nbformat": 4,
 "nbformat_minor": 1
}
